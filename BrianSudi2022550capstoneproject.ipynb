{
 "cells": [
  {
   "cell_type": "markdown",
   "id": "cac187e5",
   "metadata": {},
   "source": [
    "# DATA ANALYTICS CAPSTONE PROJECT"
   ]
  },
  {
   "cell_type": "markdown",
   "id": "e8af9789",
   "metadata": {},
   "source": [
    "## Integrating Multi-Source Data and Image Identification for Automated Crop Disease Diagnosis using Deep Learning\n",
    "### Objectives\n",
    "* Develop a deep learning model using multi-source data for accurate and efficient crop disease diagnosis. \n",
    "* Investigate the effectiveness of different NoSQL databases for storing agricultural data. \n",
    "* Explore different deep-learning paradigms to enhance the performance of crop disease diagnosis models. "
   ]
  },
  {
   "cell_type": "markdown",
   "id": "af6d2f38",
   "metadata": {},
   "source": [
    "#### STEPS"
   ]
  },
  {
   "cell_type": "code",
   "execution_count": null,
   "id": "1908e9ce",
   "metadata": {},
   "outputs": [],
   "source": []
  },
  {
   "cell_type": "code",
   "execution_count": null,
   "id": "ebd88243",
   "metadata": {},
   "outputs": [],
   "source": []
  }
 ],
 "metadata": {
  "kernelspec": {
   "display_name": "Python 3 (ipykernel)",
   "language": "python",
   "name": "python3"
  },
  "language_info": {
   "codemirror_mode": {
    "name": "ipython",
    "version": 3
   },
   "file_extension": ".py",
   "mimetype": "text/x-python",
   "name": "python",
   "nbconvert_exporter": "python",
   "pygments_lexer": "ipython3",
   "version": "3.9.12"
  }
 },
 "nbformat": 4,
 "nbformat_minor": 5
}
